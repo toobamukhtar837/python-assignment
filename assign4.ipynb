{
 "cells": [
  {
   "cell_type": "code",
   "execution_count": 1,
   "metadata": {},
   "outputs": [
    {
     "name": "stdout",
     "output_type": "stream",
     "text": [
      "('first_name', 'fatima')\n",
      "('last_name', 'afzaal')\n",
      "('age', 22)\n",
      "('city', 'Karachi.')\n",
      "{'first_name': 'fatima', 'last_name': 'afzaal', 'age': 22, 'city': 'Karachi.', 'qualification': 'high academic level'}\n",
      "{'first_name': 'fatima', 'last_name': 'afzaal', 'age': 22, 'city': 'Karachi.'}\n"
     ]
    }
   ],
   "source": [
    "person={\"first_name\":\"fatima\", \"last_name\":\"afzaal\", \"age\":22,\"city\":\"Karachi.\"}\n",
    "for j in person.items():\n",
    "    print(j) \n",
    "person[\"qualification\"]=\"high academic level\"\n",
    "print(person)\n",
    "del(person[\"qualification\"])\n",
    "print(person)"
   ]
  },
  {
   "cell_type": "code",
   "execution_count": 2,
   "metadata": {},
   "outputs": [
    {
     "name": "stdout",
     "output_type": "stream",
     "text": [
      "Karachi {'country': 'Pakistan', 'population': '14.0 million', 'fact': 'roshniyon ka sheher'}\n",
      "Lahore {'country': 'Pakistan', 'population': '10.4 million', 'fact': 'jinney lohr ni wekhya unney kuch ni wekhya'}\n",
      "Islamabad {'country': 'Pakistan', 'population': '1.0 million', 'fact': 'fastfoods'}\n"
     ]
    }
   ],
   "source": [
    "cities={\"Karachi\":{\"country\":\"Pakistan\",\"population\":\"14.0 million\",\"fact\":\"roshniyon ka sheher\"},\"Lahore\":{\"country\":\"Pakistan\",\"population\":\"10.4 million\",\"fact\":\"jinney lohr ni wekhya unney kuch ni wekhya\"} ,\"Islamabad\":{\"country\":\"Pakistan\",\"population\":\"1.0 million\",\"fact\":\"fastfoods\"}}\n",
    "for i in cities:\n",
    "    print(i,cities[i])"
   ]
  },
  {
   "cell_type": "code",
   "execution_count": 3,
   "metadata": {},
   "outputs": [
    {
     "name": "stdout",
     "output_type": "stream",
     "text": [
      "How old are you?\n",
      "Enter 'quit' when you are finished. 15\n",
      "  Your ticket is $15.\n",
      "How old are you?\n",
      "Enter 'quit' when you are finished. quit\n"
     ]
    }
   ],
   "source": [
    "prompt = \"How old are you?\"\n",
    "prompt += \"\\nEnter 'quit' when you are finished. \"\n",
    "\n",
    "while True:\n",
    "    age = input(prompt)\n",
    "    if age == 'quit':\n",
    "        break\n",
    "    age = int(age)\n",
    "\n",
    "    if age < 3:\n",
    "        print(\"  You get in free!\")\n",
    "    elif age < 13:\n",
    "        print(\"  Your ticket is $10.\")\n",
    "    else:\n",
    "        print(\"  Your ticket is $15.\")"
   ]
  },
  {
   "cell_type": "code",
   "execution_count": 5,
   "metadata": {},
   "outputs": [
    {
     "name": "stdout",
     "output_type": "stream",
     "text": [
      "peer e kamil is one of my favorite books.\n"
     ]
    }
   ],
   "source": [
    "def favorite_book(title):\n",
    "    print(title + \" is one of my favorite books.\")\n",
    "\n",
    "favorite_book('peer e kamil')"
   ]
  },
  {
   "cell_type": "code",
   "execution_count": 18,
   "metadata": {},
   "outputs": [
    {
     "name": "stdout",
     "output_type": "stream",
     "text": [
      "Enter a num: 5\n",
      "guess a larger num\n",
      "Enter a num: 8\n",
      "You got it buddy\n",
      "CONGRATS!, YOU WON\n"
     ]
    }
   ],
   "source": [
    "from random import randrange\n",
    "banda=randrange(1,30)\n",
    "for j in range(0,3):\n",
    "    bandi=int(input(\"Enter a num: \"))\n",
    "    if bandi<banda:\n",
    "        print(\"guess a larger num\")\n",
    "    elif bandi>banda:\n",
    "        print(\"guess a smaller num\")\n",
    "    else:\n",
    "        print(\"You got it buddy\")\n",
    "        break\n",
    "if bandi<banda or bandi>banda:\n",
    "    print(\"YOU LOST\")\n",
    "else:\n",
    "    print(\"CONGRATS!, YOU WON\")"
   ]
  },
  {
   "cell_type": "code",
   "execution_count": null,
   "metadata": {},
   "outputs": [],
   "source": [
    "\n"
   ]
  },
  {
   "cell_type": "code",
   "execution_count": null,
   "metadata": {},
   "outputs": [],
   "source": []
  }
 ],
 "metadata": {
  "kernelspec": {
   "display_name": "Python 3",
   "language": "python",
   "name": "python3"
  },
  "language_info": {
   "codemirror_mode": {
    "name": "ipython",
    "version": 3
   },
   "file_extension": ".py",
   "mimetype": "text/x-python",
   "name": "python",
   "nbconvert_exporter": "python",
   "pygments_lexer": "ipython3",
   "version": "3.7.4"
  }
 },
 "nbformat": 4,
 "nbformat_minor": 2
}
