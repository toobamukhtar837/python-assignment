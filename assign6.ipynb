{
 "cells": [
  {
   "cell_type": "code",
   "execution_count": 1,
   "metadata": {},
   "outputs": [],
   "source": [
    "##question no 1;\n",
    "#Object-oriented Programming, or OOP for short, is a programming paradigm which provides a means of structuring programs so that properties and behaviors are bundled into individual objects.\n",
    "#For instance, an object could represent a person with a name property, age, address, etc., with behaviors like walking, talking, breathing, and running. Or an email with properties like recipient list, subject, body, etc., and behaviors like adding attachments and sending.\n",
    "#in short it a paradigm in which real world objects are viewed as seperate utilities having their own state which is modified by using buld in procedures called,methods.\n"
   ]
  },
  {
   "cell_type": "code",
   "execution_count": 2,
   "metadata": {},
   "outputs": [],
   "source": [
    "#question no 2;\n",
    "# -->> Modularity for easier troubleshooting\n",
    "# -->> Reuse of code through inheritance\n",
    "# -->> Flexibility through polymorphism\n",
    "# -->> Effective problem solving"
   ]
  },
  {
   "cell_type": "code",
   "execution_count": 3,
   "metadata": {},
   "outputs": [],
   "source": [
    "#question 3;\n",
    "#Python Method\n",
    "              # --> methods are functions defined inside the body of a class.They are used to define behaviour of objects.\n",
    "              # -->Method is called by its name, but it is associated to an object (dependent).\n",
    "              # --> A method is implicitly passed the object on which it is invoked.\n",
    "              # -->It may or may not return any data.\n",
    "             # -->A method can operate on the data (instance variables) that is contained by the corresponding class\n",
    "#Functions\n",
    "            # -->Function is block of code that is also called by its name. (independent)\n",
    "            # -->The function can have different parameters or may not have any at all. If any data (parameters) are passed, they are passed explicitly.\n",
    "            # -->It may or may not return any data.\n",
    "            # -->Function does not deal with Class and its instance concept."
   ]
  },
  {
   "cell_type": "code",
   "execution_count": 4,
   "metadata": {},
   "outputs": [],
   "source": [
    "#question 4;\n",
    "#CLASS:\n",
    "    #is a template or blue print about the capability of what an object can do\n",
    "#OBJECT:\n",
    "    # an object(instance) is an instantiation of a class.when class is defined,only the description for the object is defined.therefore no memory or storage is allocated\n",
    "#ATTRIBUTE:\n",
    "    # attributes are the properties of objects\n",
    "#BEHAVIOR\n",
    "    # A class's behavior determines how an instance of that class operates; for example, how it will \"react\" if asked to do something by another class or object or if its internal state changes.\n",
    "    "
   ]
  },
  {
   "cell_type": "code",
   "execution_count": 13,
   "metadata": {},
   "outputs": [],
   "source": [
    "#question 5;\n",
    "class Car(object):\n",
    "    \n",
    "  def __init__(self, corolla, model, color, company, speed_limit):\n",
    "    self.name = corolla\n",
    "    self.color = color\n",
    "    self.company = company\n",
    "    self.speed_limit = speed_limit\n",
    "    self.model = model\n",
    "\n",
    "  def start(self):\n",
    "    print(\"started\")\n",
    "\n",
    "  def stop(self):\n",
    "    print(\"stopped\")\n",
    "\n",
    "  def accelarate(self):\n",
    "    print(\"accelarating...\")\n",
    "    \"accelarator functionality here\"\n",
    "\n",
    "  def decelerate(self):\n",
    "     print(\"decelerating..\")\n",
    "        \n",
    "  def change_gear(self, gear_type):\n",
    "    print(\"gear changed\")\n",
    "    \" gear related functionality here\""
   ]
  },
  {
   "cell_type": "code",
   "execution_count": null,
   "metadata": {},
   "outputs": [],
   "source": []
  }
 ],
 "metadata": {
  "kernelspec": {
   "display_name": "Python 3",
   "language": "python",
   "name": "python3"
  },
  "language_info": {
   "codemirror_mode": {
    "name": "ipython",
    "version": 3
   },
   "file_extension": ".py",
   "mimetype": "text/x-python",
   "name": "python",
   "nbconvert_exporter": "python",
   "pygments_lexer": "ipython3",
   "version": "3.7.4"
  }
 },
 "nbformat": 4,
 "nbformat_minor": 2
}
